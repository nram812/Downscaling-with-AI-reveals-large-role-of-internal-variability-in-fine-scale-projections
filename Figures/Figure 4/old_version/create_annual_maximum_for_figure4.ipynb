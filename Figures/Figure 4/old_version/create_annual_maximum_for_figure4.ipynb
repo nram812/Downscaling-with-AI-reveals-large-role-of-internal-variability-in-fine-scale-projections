{
 "cells": [
  {
   "cell_type": "code",
   "execution_count": 3,
   "metadata": {},
   "outputs": [],
   "source": [
    "import glob\n",
    "import xarray as xr\n",
    "import pandas as pd\n",
    "import numpy as np\n",
    "import matplotlib.pyplot as plt\n",
    "import cartopy.crs as ccrs\n",
    "import seaborn as sns\n",
    "from scipy.stats import linregress\n",
    "from dask.diagnostics import ProgressBar"
   ]
  },
  {
   "cell_type": "markdown",
   "metadata": {},
   "source": [
    "# Need to find large ensemble for Precip and Temperature"
   ]
  },
  {
   "cell_type": "code",
   "execution_count": 22,
   "metadata": {},
   "outputs": [],
   "source": [
    "canesm = ['CanESM5_r10i1p1f1', 'CanESM5_r10i1p2f1',\n",
    "       'CanESM5_r1i1p1f1', 'CanESM5_r1i1p2f1', 'CanESM5_r2i1p1f1',\n",
    "       'CanESM5_r2i1p2f1', 'CanESM5_r3i1p1f1', 'CanESM5_r3i1p2f1',\n",
    "       'CanESM5_r4i1p1f1', 'CanESM5_r4i1p2f1', 'CanESM5_r5i1p1f1',\n",
    "       'CanESM5_r5i1p2f1', 'CanESM5_r6i1p1f1', 'CanESM5_r6i1p2f1',\n",
    "       'CanESM5_r7i1p1f1', 'CanESM5_r7i1p2f1', 'CanESM5_r8i1p1f1',\n",
    "       'CanESM5_r8i1p2f1', 'CanESM5_r9i1p1f1']\n",
    "accessesm1 = ['ACCESS-ESM1-5_r10i1p1f1',\n",
    "       'ACCESS-ESM1-5_r11i1p1f1', 'ACCESS-ESM1-5_r12i1p1f1',\n",
    "       'ACCESS-ESM1-5_r13i1p1f1', 'ACCESS-ESM1-5_r14i1p1f1',\n",
    "       'ACCESS-ESM1-5_r15i1p1f1', 'ACCESS-ESM1-5_r16i1p1f1',\n",
    "       'ACCESS-ESM1-5_r17i1p1f1', 'ACCESS-ESM1-5_r18i1p1f1',\n",
    "       'ACCESS-ESM1-5_r19i1p1f1', 'ACCESS-ESM1-5_r1i1p1f1',\n",
    "       'ACCESS-ESM1-5_r20i1p1f1', 'ACCESS-ESM1-5_r21i1p1f1',\n",
    "       'ACCESS-ESM1-5_r22i1p1f1', 'ACCESS-ESM1-5_r23i1p1f1',\n",
    "       'ACCESS-ESM1-5_r24i1p1f1', 'ACCESS-ESM1-5_r25i1p1f1',\n",
    "       'ACCESS-ESM1-5_r26i1p1f1', 'ACCESS-ESM1-5_r27i1p1f1',\n",
    "       'ACCESS-ESM1-5_r28i1p1f1', 'ACCESS-ESM1-5_r29i1p1f1',\n",
    "       'ACCESS-ESM1-5_r2i1p1f1', 'ACCESS-ESM1-5_r30i1p1f1',\n",
    "       'ACCESS-ESM1-5_r31i1p1f1', 'ACCESS-ESM1-5_r32i1p1f1',\n",
    "       'ACCESS-ESM1-5_r33i1p1f1', 'ACCESS-ESM1-5_r34i1p1f1',\n",
    "       'ACCESS-ESM1-5_r35i1p1f1', 'ACCESS-ESM1-5_r36i1p1f1',\n",
    "       'ACCESS-ESM1-5_r37i1p1f1', 'ACCESS-ESM1-5_r38i1p1f1',\n",
    "       'ACCESS-ESM1-5_r39i1p1f1', 'ACCESS-ESM1-5_r3i1p1f1',\n",
    "       'ACCESS-ESM1-5_r40i1p1f1', 'ACCESS-ESM1-5_r4i1p1f1',\n",
    "       'ACCESS-ESM1-5_r5i1p1f1', 'ACCESS-ESM1-5_r6i1p1f1',\n",
    "       'ACCESS-ESM1-5_r7i1p1f1', 'ACCESS-ESM1-5_r8i1p1f1',\n",
    "       'ACCESS-ESM1-5_r9i1p1f1']\n",
    "\n",
    "list_of_gcms = ['CNRM-CM6-1_r1i1p1f2', 'UKESM1-0-LL_r1i1p1f2',\n",
    "       'GISS-E2-1-G_r1i1p1f2', 'IITM-ESM_r1i1p1f1', 'CanESM5_r1i1p1f1',\n",
    "       'INM-CM5-0_r1i1p1f1', 'INM-CM4-8_r1i1p1f1', 'TaiESM1_r1i1p1f1',\n",
    "       'EC-Earth3-Veg-LR_r1i1p1f1', 'EC-Earth3_r1i1p1f1',\n",
    "       'EC-Earth3-Veg_r1i1p1f1', 'CMCC-ESM2_r1i1p1f1', 'CMCC-CM2-SR5_r1i1p1f1',\n",
    "       'ACCESS-ESM1-5_r1i1p1f1', 'ACCESS-CM2_r4i1p1f1', 'IPSL-CM6A-LR_r1i1p1f1',\n",
    "       'NorESM2-LM_r1i1p1f1', 'NorESM2-MM_r1i1p1f1', 'MPI-ESM1-2-LR_r1i1p1f1',\n",
    "       'MPI-ESM1-2-HR_r1i1p1f1']"
   ]
  },
  {
   "cell_type": "markdown",
   "metadata": {},
   "source": [
    "# Updated this script to produce absolute anomalies here"
   ]
  },
  {
   "cell_type": "code",
   "execution_count": null,
   "metadata": {},
   "outputs": [],
   "source": [
    "# We need to use the historical and concatenate the future on here\n",
    "# we also should use the \"list_of_gcms\" list here. "
   ]
  },
  {
   "cell_type": "code",
   "execution_count": 21,
   "metadata": {},
   "outputs": [],
   "source": [
    "def get_list_of_files(varname = \"tasmax\", GCM_variant_list = list_of_gcms,  ssp = 'ssp370', base_path ='/nesi/nobackup/niwa03712/ML_Downscaled_CMIP6/NIWA-REMS_CCAM_public'):\n",
    "    gcm = [GCM.split('_')[0] for GCM in GCM_variant_list]\n",
    "    variant = [GCM.split('_')[1] for GCM in GCM_variant_list]\n",
    "    if not varname == \"pr\":\n",
    "        if ssp == 'historical':\n",
    "            files_glob_tx = [glob.glob(f'{base_path}/{ssp}/daily/{varname}/{varname}_CMIP_*_{gcm[i]}_{ssp}_{variant[i]}_day_NZ12km_NIWA-REMS_{varname}_v??????.nc')[0] for i in range(len(gcm))]\n",
    "        else:\n",
    "            files_glob_tx = [glob.glob(f'{base_path}/{ssp}/daily/{varname}/{varname}_ScenarioMIP_*_{gcm[i]}_{ssp}_{variant[i]}_day_NZ12km_NIWA-REMS_{varname}_v??????.nc')[0] for i in range(len(gcm))]\n",
    "    else:\n",
    "        if ssp == 'historical':\n",
    "            files_glob_tx = [glob.glob(f'{base_path}/{ssp}/daily/{varname}/{varname}_CMIP_*_{gcm[i]}_{ssp}_{variant[i]}_day_NZ12km_NIWA-REMS_v??????_pr.nc')[0] for i in range(len(gcm))]\n",
    "        else:\n",
    "            files_glob_tx = [glob.glob(f'{base_path}/{ssp}/daily/{varname}/{varname}_ScenarioMIP_*_{gcm[i]}_{ssp}_{variant[i]}_day_NZ12km_NIWA-REMS_v??????_pr.nc')[0] for i in range(len(gcm))]\n",
    "    return files_glob_tx"
   ]
  },
  {
   "cell_type": "code",
   "execution_count": null,
   "metadata": {},
   "outputs": [],
   "source": [
    "z1 = np.random.rand(0,2,100)"
   ]
  },
  {
   "cell_type": "code",
   "execution_count": 23,
   "metadata": {},
   "outputs": [],
   "source": [
    "def compute_future_reference(file, txx_reference, seasonal_reference, historical_dset, varname =\"tasmax\"):\n",
    "    with ProgressBar():\n",
    "        with xr.open_dataset(file, chunks={'time': 300}) as ds:\n",
    "            ds = ds.sel(time=slice(\"2015\", None))\n",
    "            ds = xr.concat([historical_dset, ds[varname]], dim =\"time\")\n",
    "            tasmax = ds\n",
    "\n",
    "            # Compute TXx more efficiently using Dask\n",
    "            if varname == \"pr\":\n",
    "                txx_future =tasmax.groupby(\"time.year\").max()# 100* (tasmax.groupby(\"time.year\").max() - txx_reference)/txx_reference\n",
    "            else:\n",
    "                \n",
    "                txx_future = tasmax.groupby(\"time.year\").max()# - txx_reference\n",
    "\n",
    "            # Compute seasonal mean for February (DJF mid-point)\n",
    "            seasonal = tasmax.resample(time=\"1MS\").mean()\n",
    "            seasonal = seasonal.rolling(time=3).mean()\n",
    "            if varname == \"pr\":\n",
    "                seasonal = (seasonal.sel(time=seasonal.time.dt.month == 2))# - seasonal_reference)/seasonal_reference\n",
    "            else:\n",
    "                \n",
    "                seasonal = seasonal.sel(time=seasonal.time.dt.month == 2)# - seasonal_reference\n",
    "\n",
    "            return txx_future.compute(), seasonal.compute()\n"
   ]
  },
  {
   "cell_type": "code",
   "execution_count": null,
   "metadata": {},
   "outputs": [
    {
     "name": "stdout",
     "output_type": "stream",
     "text": [
      "CNRM-CM6-1 CNRM-CM6-1 CNRM-CM6-1 CNRM-CM6-1 CNRM-CM6-1\n",
      "[########################################] | 100% Completed | 10.75 s\n",
      "[########################################] | 100% Completed | 6.74 sms\n",
      "[########################################] | 100% Completed | 9.97 ss\n",
      "[########################################] | 100% Completed | 6.72 sms\n",
      "[########################################] | 100% Completed | 10.74 s\n",
      "[########################################] | 100% Completed | 7.16 ss\n",
      "[########################################] | 100% Completed | 11.13 s\n",
      "[########################################] | 100% Completed | 7.19 sms\n",
      "UKESM1-0-LL UKESM1-0-LL UKESM1-0-LL UKESM1-0-LL UKESM1-0-LL\n",
      "[########################################] | 100% Completed | 10.31 s\n",
      "[########################################] | 100% Completed | 6.68 ss\n",
      "[########################################] | 100% Completed | 11.07 s\n",
      "[########################################] | 100% Completed | 6.45 ss\n",
      "[########################################] | 100% Completed | 10.29 s\n",
      "[########################################] | 100% Completed | 6.10 ss\n",
      "[########################################] | 100% Completed | 9.90 ss\n",
      "[########################################] | 100% Completed | 6.37 ss\n",
      "GISS-E2-1-G GISS-E2-1-G GISS-E2-1-G GISS-E2-1-G GISS-E2-1-G\n",
      "[########################################] | 100% Completed | 11.57 s\n",
      "[########################################] | 100% Completed | 6.55 sms\n",
      "[########################################] | 100% Completed | 10.95 s\n",
      "[########################################] | 100% Completed | 6.97 sms\n",
      "[########################################] | 100% Completed | 11.56 s\n",
      "[########################################] | 100% Completed | 7.06 sms\n",
      "[########################################] | 100% Completed | 11.37 s\n",
      "[########################################] | 100% Completed | 6.98 sms\n",
      "IITM-ESM IITM-ESM IITM-ESM IITM-ESM IITM-ESM\n",
      "[########################################] | 100% Completed | 10.05 s\n",
      "[########################################] | 100% Completed | 6.97 sms\n",
      "[########################################] | 100% Completed | 10.47 s\n",
      "[########################################] | 100% Completed | 6.65 sms\n",
      "[########################################] | 100% Completed | 10.18 s\n",
      "[########################################] | 100% Completed | 6.67 sms\n",
      "[########################################] | 100% Completed | 10.88 s\n",
      "[########################################] | 100% Completed | 6.58 sms\n",
      "CanESM5 CanESM5 CanESM5 CanESM5 CanESM5\n",
      "[########################################] | 100% Completed | 10.76 s\n",
      "[########################################] | 100% Completed | 6.47 sms\n",
      "[########################################] | 100% Completed | 10.88 s\n",
      "[########################################] | 100% Completed | 7.06 sms\n",
      "[########################################] | 100% Completed | 10.74 s\n",
      "[########################################] | 100% Completed | 6.75 sms\n",
      "[########################################] | 100% Completed | 10.41 s\n",
      "[########################################] | 100% Completed | 6.66 sms\n",
      "INM-CM5-0 INM-CM5-0 INM-CM5-0 INM-CM5-0 INM-CM5-0\n",
      "[########################################] | 100% Completed | 10.38 s\n",
      "[########################################] | 100% Completed | 6.75 sms\n",
      "[########################################] | 100% Completed | 11.14 s\n",
      "[########################################] | 100% Completed | 7.13 sms\n",
      "[########################################] | 100% Completed | 10.56 s\n",
      "[########################################] | 100% Completed | 6.72 sms\n",
      "[########################################] | 100% Completed | 11.35 s\n",
      "[########################################] | 100% Completed | 6.31 sms\n",
      "INM-CM4-8 INM-CM4-8 INM-CM4-8 INM-CM4-8 INM-CM4-8\n",
      "[########################################] | 100% Completed | 10.83 s\n",
      "[########################################] | 100% Completed | 6.93 sms\n",
      "[########################################] | 100% Completed | 11.40 s\n",
      "[########################################] | 100% Completed | 6.51 sms\n",
      "[########################################] | 100% Completed | 11.26 s\n",
      "[########################################] | 100% Completed | 6.42 sms\n",
      "[########################################] | 100% Completed | 10.22 s\n",
      "[########################################] | 100% Completed | 6.46 sms\n",
      "TaiESM1 TaiESM1 TaiESM1 TaiESM1 TaiESM1\n",
      "[########################################] | 100% Completed | 10.24 s\n",
      "[########################################] | 100% Completed | 6.50 sms\n",
      "[########################################] | 100% Completed | 11.07 s\n",
      "[########################################] | 100% Completed | 7.07 sms\n",
      "[########################################] | 100% Completed | 11.06 s\n",
      "[########################################] | 100% Completed | 6.55 sms\n",
      "[########################################] | 100% Completed | 10.67 s\n",
      "[########################################] | 100% Completed | 6.55 sms\n",
      "EC-Earth3-Veg-LR EC-Earth3-Veg-LR EC-Earth3-Veg-LR EC-Earth3-Veg-LR EC-Earth3-Veg-LR\n",
      "[########################################] | 100% Completed | 10.31 s\n",
      "[########################################] | 100% Completed | 6.86 sms\n",
      "[########################################] | 100% Completed | 10.58 s\n",
      "[########################################] | 100% Completed | 6.35 sms\n",
      "[########################################] | 100% Completed | 11.11 s\n",
      "[########################################] | 100% Completed | 6.88 sms\n",
      "[########################################] | 100% Completed | 10.47 s\n",
      "[########################################] | 100% Completed | 6.53 sms\n",
      "EC-Earth3 EC-Earth3 EC-Earth3 EC-Earth3 EC-Earth3\n",
      "[########################################] | 100% Completed | 11.54 s\n",
      "[########################################] | 100% Completed | 6.79 sms\n",
      "[########################################] | 100% Completed | 10.68 s\n",
      "[########################################] | 100% Completed | 7.05 sms\n",
      "[########################################] | 100% Completed | 11.55 s\n",
      "[########################################] | 100% Completed | 6.37 sms\n",
      "[########################################] | 100% Completed | 10.27 s\n",
      "[########################################] | 100% Completed | 6.62 sms\n",
      "EC-Earth3-Veg EC-Earth3-Veg EC-Earth3-Veg EC-Earth3-Veg EC-Earth3-Veg\n",
      "[########################################] | 100% Completed | 10.99 s\n",
      "[########################################] | 100% Completed | 6.54 sms\n",
      "[########################################] | 100% Completed | 10.25 s\n",
      "[########################################] | 100% Completed | 6.67 sms\n",
      "[########################################] | 100% Completed | 10.69 s\n",
      "[########################################] | 100% Completed | 7.19 sms\n",
      "[########################################] | 100% Completed | 11.11 s\n",
      "[########################################] | 100% Completed | 6.88 sms\n",
      "CMCC-ESM2 CMCC-ESM2 CMCC-ESM2 CMCC-ESM2 CMCC-ESM2\n",
      "[########################################] | 100% Completed | 10.34 s\n",
      "[########################################] | 100% Completed | 6.55 sms\n",
      "[########################################] | 100% Completed | 10.73 s\n",
      "[########################################] | 100% Completed | 6.37 sms\n",
      "[########################################] | 100% Completed | 10.17 s\n",
      "[########################################] | 100% Completed | 6.55 sms\n",
      "[########################################] | 100% Completed | 10.65 s\n",
      "[########################################] | 100% Completed | 6.76 sms\n",
      "CMCC-CM2-SR5 CMCC-CM2-SR5 CMCC-CM2-SR5 CMCC-CM2-SR5 CMCC-CM2-SR5\n",
      "[########################################] | 100% Completed | 12.00 s\n",
      "[########################################] | 100% Completed | 6.55 sms\n",
      "[########################################] | 100% Completed | 10.16 s\n",
      "[########################################] | 100% Completed | 7.21 sms\n",
      "[########################################] | 100% Completed | 10.70 s\n",
      "[########################################] | 100% Completed | 6.96 sms\n",
      "[########################################] | 100% Completed | 10.98 s\n",
      "[########################################] | 100% Completed | 6.87 sms\n",
      "ACCESS-ESM1-5 ACCESS-ESM1-5 ACCESS-ESM1-5 ACCESS-ESM1-5 ACCESS-ESM1-5\n",
      "[########################################] | 100% Completed | 10.30 s\n",
      "[########################################] | 100% Completed | 6.52 sms\n",
      "[########################################] | 100% Completed | 11.28 s\n",
      "[########################################] | 100% Completed | 6.80 sms\n",
      "[########################################] | 100% Completed | 10.69 s\n",
      "[########################################] | 100% Completed | 6.88 sms\n",
      "[########################################] | 100% Completed | 10.58 s\n",
      "[########################################] | 100% Completed | 6.99 sms\n",
      "ACCESS-CM2 ACCESS-CM2 ACCESS-CM2 ACCESS-CM2 ACCESS-CM2\n",
      "[########################################] | 100% Completed | 10.54 s\n",
      "[########################################] | 100% Completed | 6.82 sms\n",
      "[########################################] | 100% Completed | 11.27 s\n",
      "[########################################] | 100% Completed | 7.16 sms\n",
      "[########################################] | 100% Completed | 11.02 s\n",
      "[########################################] | 100% Completed | 6.91 sms\n",
      "[########################################] | 100% Completed | 11.02 s\n",
      "[########################################] | 100% Completed | 7.52 sms\n",
      "IPSL-CM6A-LR IPSL-CM6A-LR IPSL-CM6A-LR IPSL-CM6A-LR IPSL-CM6A-LR\n",
      "[########################################] | 100% Completed | 11.07 s\n",
      "[########################################] | 100% Completed | 7.14 sms\n",
      "[########################################] | 100% Completed | 10.70 s\n",
      "[########################################] | 100% Completed | 6.96 sms\n",
      "[########################################] | 100% Completed | 10.81 s\n",
      "[########################################] | 100% Completed | 6.77 sms\n",
      "[########################################] | 100% Completed | 10.94 s\n",
      "[########################################] | 100% Completed | 6.58 sms\n",
      "NorESM2-LM NorESM2-LM NorESM2-LM NorESM2-LM NorESM2-LM\n",
      "[########################################] | 100% Completed | 13.73 s\n",
      "[########################################] | 100% Completed | 9.50 ss\n",
      "[########################################] | 100% Completed | 11.21 s\n",
      "[########################################] | 100% Completed | 7.10 sms\n",
      "[########################################] | 100% Completed | 10.96 s\n",
      "[####################                    ] | 52% Completed | 3.36 sms"
     ]
    }
   ],
   "source": [
    "ssps = ['ssp126','ssp245', 'ssp370', 'ssp585']\n",
    "# first get the historical\n",
    "historical_files = get_list_of_files(varname = \"tasmax\", GCM_variant_list = list_of_gcms,  ssp = \"historical\", base_path ='/nesi/nobackup/niwa03712/ML_Downscaled_CMIP6/NIWA-REMS_CCAM_public')\n",
    "ssp126_files = get_list_of_files(varname = \"tasmax\", GCM_variant_list = list_of_gcms,  ssp = \"ssp126\", base_path ='/nesi/nobackup/niwa03712/ML_Downscaled_CMIP6/NIWA-REMS_CCAM_public')\n",
    "ssp245_files = get_list_of_files(varname = \"tasmax\", GCM_variant_list = list_of_gcms,  ssp = \"ssp245\", base_path ='/nesi/nobackup/niwa03712/ML_Downscaled_CMIP6/NIWA-REMS_CCAM_public')\n",
    "ssp370_files = get_list_of_files(varname = \"tasmax\", GCM_variant_list = list_of_gcms,  ssp = \"ssp370\", base_path ='/nesi/nobackup/niwa03712/ML_Downscaled_CMIP6/NIWA-REMS_CCAM_public')\n",
    "ssp585_files = get_list_of_files(varname = \"tasmax\", GCM_variant_list = list_of_gcms,  ssp = \"ssp585\", base_path ='/nesi/nobackup/niwa03712/ML_Downscaled_CMIP6/NIWA-REMS_CCAM_public')\n",
    "seasonal_dsets = []\n",
    "txx_dsets = []\n",
    "for i, file in enumerate(historical_files):\n",
    "    print(file.split('/')[-1].split('_')[3], ssp126_files[i].split('/')[-1].split('_')[3], ssp245_files[i].split('/')[-1].split('_')[3],ssp370_files[i].split('/')[-1].split('_')[3] ,ssp585_files[i].split('/')[-1].split('_')[3])\n",
    "    historical_tx = xr.open_dataset(historical_files[i]).sel(time = slice(\"1960\",\"2014\")).tasmax\n",
    "    # first compute a climatological reference\n",
    "    txx_reference = historical_tx.groupby('time.year').max().mean(\"year\") # a reference climatology\n",
    "    seasonal_reference = historical_tx.groupby('time.season').mean().sel(season = 'DJF')\n",
    "    \n",
    "    txx_ssp126, seasonal_ssp126 = compute_future_reference(ssp126_files[i], txx_reference, seasonal_reference, historical_tx)\n",
    "    txx_ssp245, seasonal_ssp245 = compute_future_reference(ssp245_files[i], txx_reference, seasonal_reference, historical_tx)\n",
    "    txx_ssp370, seasonal_ssp370 = compute_future_reference(ssp370_files[i], txx_reference, seasonal_reference, historical_tx)\n",
    "    txx_ssp585, seasonal_ssp585 = compute_future_reference(ssp585_files[i], txx_reference, seasonal_reference, historical_tx)\n",
    "    \n",
    "    txx_dset = xr.concat([txx_ssp126, txx_ssp245, txx_ssp370, txx_ssp585], dim = \"ssp\")\n",
    "    txx_dset['ssp'] = (('ssp'), ssps)\n",
    "    seasonal_dset = xr.concat([seasonal_ssp126, seasonal_ssp245, seasonal_ssp370, seasonal_ssp585], dim = \"ssp\")\n",
    "    seasonal_dset['ssp'] = (('ssp'), ssps)\n",
    "    txx_dset = txx_dset.expand_dims({\"GCM\":1})\n",
    "    seasonal_dset = seasonal_dset.expand_dims({\"GCM\":1})\n",
    "\n",
    "    gcm = ssp126_files[i].split('/')[-1].split('_')[3]\n",
    "    txx_dset['GCM'] = (('GCM'), [gcm])\n",
    "    seasonal_dset['GCM'] = (('GCM'), [gcm])\n",
    "    txx_dsets.append(txx_dset)\n",
    "    seasonal_dsets.append(seasonal_dset)        "
   ]
  },
  {
   "cell_type": "code",
   "execution_count": null,
   "metadata": {},
   "outputs": [],
   "source": [
    "new_dsets = []\n",
    "for dset in seasonal_dsets:\n",
    "    dset['time'] = pd.to_datetime(dset.time.dt.strftime(\"%Y-%m-%d\"))\n",
    "    new_dsets.append(dset)\n",
    "\n",
    "DJF_mme = xr.concat(new_dsets, dim =\"GCM\").to_dataset(name = 'DJF_MME')\n",
    "TXX_mme = xr.concat(txx_dsets, dim =\"GCM\").to_dataset(name = 'TXX_MME')"
   ]
  },
  {
   "cell_type": "code",
   "execution_count": null,
   "metadata": {},
   "outputs": [],
   "source": [
    "\n",
    "\n",
    "merged_dset_TXX_DJF = xr.merge([TXX_mme, DJF_mme])\n",
    "merged_dset_TXX_DJF.to_netcdf('/nesi/project/niwa00018/ML_downscaling_CCAM/AI_large_ensemble/internal_variability_data/Multi_Model_Decomposition_tasmax_v160625_raw.nc')"
   ]
  },
  {
   "cell_type": "code",
   "execution_count": null,
   "metadata": {},
   "outputs": [],
   "source": [
    "ssps = ['ssp126','ssp245', 'ssp370', 'ssp585']\n",
    "# first get the historical\n",
    "historical_files = get_list_of_files(varname = \"pr\", GCM_variant_list = list_of_gcms,  ssp = \"historical\", base_path ='/nesi/nobackup/niwa03712/ML_Downscaled_CMIP6/NIWA-REMS_CCAM_public')\n",
    "ssp126_files = get_list_of_files(varname = \"pr\", GCM_variant_list = list_of_gcms,  ssp = \"ssp126\", base_path ='/nesi/nobackup/niwa03712/ML_Downscaled_CMIP6/NIWA-REMS_CCAM_public')\n",
    "ssp245_files = get_list_of_files(varname = \"pr\", GCM_variant_list = list_of_gcms,  ssp = \"ssp245\", base_path ='/nesi/nobackup/niwa03712/ML_Downscaled_CMIP6/NIWA-REMS_CCAM_public')\n",
    "ssp370_files = get_list_of_files(varname = \"pr\", GCM_variant_list = list_of_gcms,  ssp = \"ssp370\", base_path ='/nesi/nobackup/niwa03712/ML_Downscaled_CMIP6/NIWA-REMS_CCAM_public')\n",
    "ssp585_files = get_list_of_files(varname = \"pr\", GCM_variant_list = list_of_gcms,  ssp = \"ssp585\", base_path ='/nesi/nobackup/niwa03712/ML_Downscaled_CMIP6/NIWA-REMS_CCAM_public')\n",
    "seasonal_dsets_pr = []\n",
    "rx1day_dsets_pr = []\n",
    "for i, file in enumerate(historical_files):\n",
    "    print(file.split('/')[-1].split('_')[3], ssp126_files[i].split('/')[-1].split('_')[3], ssp245_files[i].split('/')[-1].split('_')[3],ssp370_files[i].split('/')[-1].split('_')[3] ,ssp585_files[i].split('/')[-1].split('_')[3])\n",
    "    historical_tx = xr.open_dataset(historical_files[i]).sel(time = slice(\"1960\",\"2014\")).pr\n",
    "    # first compute a climatological reference\n",
    "    txx_reference = historical_tx.groupby('time.year').max().mean(\"year\") # a reference climatology\n",
    "    seasonal_reference = historical_tx.groupby('time.season').mean().sel(season = 'DJF')\n",
    "    \n",
    "    txx_ssp126, seasonal_ssp126 = compute_future_reference(ssp126_files[i], txx_reference, seasonal_reference,historical_tx,  varname =\"pr\")\n",
    "    txx_ssp245, seasonal_ssp245 = compute_future_reference(ssp245_files[i], txx_reference, seasonal_reference,historical_tx, varname =\"pr\")\n",
    "    txx_ssp370, seasonal_ssp370 = compute_future_reference(ssp370_files[i], txx_reference, seasonal_reference, historical_tx, varname =\"pr\")\n",
    "    txx_ssp585, seasonal_ssp585 = compute_future_reference(ssp585_files[i], txx_reference, seasonal_reference, historical_tx, varname =\"pr\")\n",
    "    \n",
    "    txx_dset = xr.concat([txx_ssp126, txx_ssp245, txx_ssp370, txx_ssp585], dim = \"ssp\")\n",
    "    txx_dset['ssp'] = (('ssp'), ssps)\n",
    "    seasonal_dset = xr.concat([seasonal_ssp126, seasonal_ssp245, seasonal_ssp370, seasonal_ssp585], dim = \"ssp\")\n",
    "    seasonal_dset['ssp'] = (('ssp'), ssps)\n",
    "    txx_dset = txx_dset.expand_dims({\"GCM\":1})\n",
    "    seasonal_dset = seasonal_dset.expand_dims({\"GCM\":1})\n",
    "\n",
    "    gcm = ssp126_files[i].split('/')[-1].split('_')[3]\n",
    "    txx_dset['GCM'] = (('GCM'), [gcm])\n",
    "    seasonal_dset['GCM'] = (('GCM'), [gcm])\n",
    "    rx1day_dsets_pr.append(txx_dset)\n",
    "    seasonal_dsets_pr.append(seasonal_dset)        "
   ]
  },
  {
   "cell_type": "code",
   "execution_count": null,
   "metadata": {},
   "outputs": [],
   "source": [
    "Rx1day_mme_pr = xr.concat(rx1day_dsets_pr, dim =\"GCM\").to_dataset(name = 'Rx1day_MME')\n",
    "\n",
    "new_dsets = []\n",
    "for dset in seasonal_dsets_pr:\n",
    "    dset['time'] = pd.to_datetime(dset.time.dt.strftime(\"%Y-%m-%d\"))\n",
    "    new_dsets.append(dset)\n",
    "\n",
    "DJF_mme_pr= xr.concat(new_dsets, dim =\"GCM\").to_dataset(name = 'DJF_MME_pr')\n",
    "\n",
    "#DJF_mme_pr = xr.concat(seasonal_dsets_pr, dim =\"GCM\").to_dataset(name = 'DJF_MME')\n",
    "merged_dset_RX1DAY_DJF_pr = xr.merge([Rx1day_mme_pr , DJF_mme_pr])\n",
    "merged_dset_RX1DAY_DJF_pr.to_netcdf('/nesi/project/niwa00018/ML_downscaling_CCAM/AI_large_ensemble/internal_variability_data/Multi_Model_Decomposition_pr_v160625_raw.nc')"
   ]
  },
  {
   "cell_type": "code",
   "execution_count": null,
   "metadata": {},
   "outputs": [],
   "source": [
    "ssps = ['ssp370']\n",
    "# first get the historical\n",
    "historical_files = get_list_of_files(varname = \"tasmax\", GCM_variant_list = accessesm1 + canesm,  ssp = \"historical\", base_path ='/nesi/nobackup/niwa03712/ML_Downscaled_CMIP6/NIWA-REMS_CCAM_public')\n",
    "ssp370_files = get_list_of_files(varname = \"tasmax\", GCM_variant_list = accessesm1 + canesm,  ssp = \"ssp370\", base_path ='/nesi/nobackup/niwa03712/ML_Downscaled_CMIP6/NIWA-REMS_CCAM_public')\n",
    "print(len(historical_files))\n",
    "seasonal_dsets_iv = []\n",
    "txx_dsets_iv = []\n",
    "for i, file in enumerate(historical_files):\n",
    "    historical_tx = xr.open_dataset(historical_files[i]).sel(time = slice(\"1960\",\"2014\")).tasmax\n",
    "    # first compute a climatological reference\n",
    "    txx_reference = historical_tx.groupby('time.year').max().mean(\"year\") # a reference climatology\n",
    "    seasonal_reference = historical_tx.groupby('time.season').mean().sel(season = 'DJF')\n",
    "    txx_ssp370, seasonal_ssp370 = compute_future_reference(ssp370_files[i], txx_reference, seasonal_reference, historical_tx)\n",
    "    \n",
    "    # this is the large ensemble code\n",
    "    variant = file.split('/')[-1].split('_')[5]\n",
    "    gcm = ssp370_files[i].split('/')[-1].split('_')[3]\n",
    "    \n",
    "    \n",
    "    txx_dset = txx_ssp370.expand_dims({\"GCM_variant\":1})\n",
    "    seasonal_dset = seasonal_ssp370.expand_dims({\"GCM_variant\":1})\n",
    "    print(f'{gcm}_{variant}')\n",
    "    \n",
    "    txx_dset['GCM_variant'] = (('GCM_variant'), [f'{gcm}_{variant}'])\n",
    "    txx_dset['GCM'] = (('GCM_variant'), [f'{gcm}'])\n",
    "    seasonal_dset['GCM_variant'] = (('GCM_variant'), [f'{gcm}_{variant}'])\n",
    "    seasonal_dset['GCM'] = (('GCM_variant'), [f'{gcm}'])\n",
    "    txx_dsets_iv.append(txx_dset)\n",
    "    seasonal_dsets_iv.append(seasonal_dset)\n"
   ]
  },
  {
   "cell_type": "code",
   "execution_count": null,
   "metadata": {},
   "outputs": [],
   "source": []
  },
  {
   "cell_type": "code",
   "execution_count": null,
   "metadata": {},
   "outputs": [],
   "source": [
    "TXX_IV = xr.concat(txx_dsets_iv, dim =\"GCM_variant\").to_dataset(name = 'TXX_IV')\n",
    "new_dsets = []\n",
    "for dset in seasonal_dsets_iv:\n",
    "    dset['time'] = pd.to_datetime(dset.time.dt.strftime(\"%Y-%m-%d\"))\n",
    "    new_dsets.append(dset)\n",
    "DJF_IV = xr.concat(new_dsets, dim =\"GCM_variant\").to_dataset(name = 'DJF_IV')\n"
   ]
  },
  {
   "cell_type": "code",
   "execution_count": 99,
   "metadata": {},
   "outputs": [],
   "source": [
    "# DJF_IV =  DJF_IV.drop(\"season\").rename({\"time\":\"year\"})"
   ]
  },
  {
   "cell_type": "code",
   "execution_count": 101,
   "metadata": {},
   "outputs": [],
   "source": [
    "# DJF_IV['year'] =  DJF_IV.year.dt.year"
   ]
  },
  {
   "cell_type": "code",
   "execution_count": 16,
   "metadata": {},
   "outputs": [],
   "source": []
  },
  {
   "cell_type": "code",
   "execution_count": null,
   "metadata": {},
   "outputs": [],
   "source": [
    "TXX_IV = xr.concat(txx_dsets_iv, dim =\"GCM_variant\").to_dataset(name = 'TXX_IV')\n",
    "new_dsets = []\n",
    "for dset in seasonal_dsets_iv:\n",
    "    dset['time'] = pd.to_datetime(dset.time.dt.strftime(\"%Y-%m-%d\"))\n",
    "    new_dsets.append(dset)\n",
    "DJF_IV = xr.concat(new_dsets, dim =\"GCM_variant\").to_dataset(name = 'DJF_IV')\n",
    "#DJF_IV['GCM_variant'] = TXX_IV .GCM_variant.values\n",
    "\n",
    "merged_dset_TXX_DJF_IV = xr.merge([TXX_IV, DJF_IV])\n",
    "merged_dset_TXX_DJF_IV.to_netcdf('/nesi/project/niwa00018/ML_downscaling_CCAM/AI_large_ensemble/internal_variability_data/Multi_Model_Decomposition_tasmax_LE_IV_v160625_raw.nc')"
   ]
  },
  {
   "cell_type": "code",
   "execution_count": null,
   "metadata": {},
   "outputs": [],
   "source": [
    "ssps = ['ssp370']\n",
    "# first get the historical\n",
    "historical_files = get_list_of_files(varname = \"pr\", GCM_variant_list = accessesm1 + canesm,  ssp = \"historical\", base_path ='/nesi/nobackup/niwa03712/ML_Downscaled_CMIP6/NIWA-REMS_CCAM_public')\n",
    "ssp370_files = get_list_of_files(varname = \"pr\", GCM_variant_list = accessesm1 + canesm,  ssp = \"ssp370\", base_path ='/nesi/nobackup/niwa03712/ML_Downscaled_CMIP6/NIWA-REMS_CCAM_public')\n",
    "print(len(historical_files))\n",
    "seasonal_dsets_iv_pr = []\n",
    "txx_dsets_iv_pr = []\n",
    "for i, file in enumerate(historical_files):\n",
    "    historical_tx = xr.open_dataset(historical_files[i]).sel(time = slice(\"1960\",\"2014\")).pr\n",
    "    # first compute a climatological reference\n",
    "    txx_reference = historical_tx.groupby('time.year').max().mean(\"year\") # a reference climatology\n",
    "    seasonal_reference = historical_tx.groupby('time.season').mean().sel(season = 'DJF')\n",
    "    txx_ssp370, seasonal_ssp370 = compute_future_reference(ssp370_files[i], txx_reference, seasonal_reference, historical_tx, varname = \"pr\")\n",
    "    \n",
    "    # this is the large ensemble code\n",
    "    variant = file.split('/')[-1].split('_')[5]\n",
    "    gcm = ssp370_files[i].split('/')[-1].split('_')[3]\n",
    "    \n",
    "    \n",
    "    txx_dset = txx_ssp370.expand_dims({\"GCM_variant\":1})\n",
    "    seasonal_dset = seasonal_ssp370.expand_dims({\"GCM_variant\":1})\n",
    "    print(f'{gcm}_{variant}')\n",
    "    \n",
    "    txx_dset['GCM_variant'] = (('GCM_variant'), [f'{gcm}_{variant}'])\n",
    "    txx_dset['GCM'] = (('GCM_variant'), [f'{gcm}'])\n",
    "    seasonal_dset['GCM_variant'] = (('GCM_variant'), [f'{gcm}_{variant}'])\n",
    "    seasonal_dset['GCM'] = (('GCM_variant'), [f'{gcm}'])\n",
    "    txx_dsets_iv_pr.append(txx_dset)\n",
    "    seasonal_dsets_iv_pr.append(seasonal_dset)\n"
   ]
  },
  {
   "cell_type": "code",
   "execution_count": 117,
   "metadata": {},
   "outputs": [],
   "source": [
    "# TXX_IV = xr.concat(txx_dsets_iv_pr, dim =\"GCM_variant\").to_dataset(name = 'RX1Day_IV')\n",
    "# DJF_IV = xr.concat(seasonal_dsets_iv_pr, dim =\"GCM_variant\").to_dataset(name = 'DJF_IV')\n",
    "# merged_dset_TXX_DJF_IV_pr = xr.merge([TXX_IV, DJF_IV])\n",
    "# merged_dset_TXX_DJF_IV_pr.to_netcdf('/nesi/project/niwa00018/ML_downscaling_CCAM/AI_large_ensemble/internal_variability_data/Multi_Model_Decomposition_pr_LE_IV.nc')"
   ]
  },
  {
   "cell_type": "code",
   "execution_count": null,
   "metadata": {},
   "outputs": [],
   "source": [
    "TXX_IV = xr.concat(txx_dsets_iv_pr, dim =\"GCM_variant\").to_dataset(name = 'RX1Day_IV')\n",
    "new_dsets = []\n",
    "for dset in seasonal_dsets_iv_pr:\n",
    "    dset['time'] = pd.to_datetime(dset.time.dt.strftime(\"%Y-%m-%d\"))\n",
    "    new_dsets.append(dset)\n",
    "DJF_IV = xr.concat(new_dsets, dim =\"GCM_variant\").to_dataset(name = 'DJF_IV_pr')\n",
    "\n",
    "\n",
    "merged_dset_TXX_DJF_IV = xr.merge([TXX_IV, DJF_IV])\n",
    "merged_dset_TXX_DJF_IV.to_netcdf('/nesi/project/niwa00018/ML_downscaling_CCAM/AI_large_ensemble/internal_variability_data/Multi_Model_Decomposition_pr_LE_IV_v160625_raw.nc')"
   ]
  },
  {
   "cell_type": "code",
   "execution_count": 728,
   "metadata": {},
   "outputs": [],
   "source": [
    "concats = xr.concat(full_dset, dim =\"ssp\")"
   ]
  },
  {
   "cell_type": "code",
   "execution_count": 820,
   "metadata": {},
   "outputs": [],
   "source": [
    "concats.to_netcdf(r'/nesi/project/niwa00018/ML_downscaling_CCAM/AI_large_ensemble/TXX_internal_variability_smoothing_decomposition.nc')"
   ]
  },
  {
   "cell_type": "code",
   "execution_count": 821,
   "metadata": {},
   "outputs": [
    {
     "name": "stdout",
     "output_type": "stream",
     "text": [
      "77\n"
     ]
    }
   ],
   "source": [
    "print(len(files_glob_tx))"
   ]
  },
  {
   "cell_type": "code",
   "execution_count": 46,
   "metadata": {},
   "outputs": [],
   "source": [
    "import xarray as xr\n",
    "import matplotlib.pyplot as plt\n",
    "import cartopy.crs as ccrs\n",
    "import numpy as np\n",
    "concat_internal_variability = xr.open_dataset(r'/nesi/project/niwa00018/ML_downscaling_CCAM/AI_large_ensemble/TXX_internal_variability_smoothing_decomposition_contribution.nc')"
   ]
  },
  {
   "cell_type": "code",
   "execution_count": 4,
   "metadata": {},
   "outputs": [],
   "source": [
    "concat_internal_variability = concat_internal_variability.stack(z =['GCM', 'GCM_variant']).dropna(\"z\")"
   ]
  },
  {
   "cell_type": "code",
   "execution_count": 9,
   "metadata": {},
   "outputs": [],
   "source": [
    "concat_internal_variability['tasmax_resid_2'] = (('ssp','lat','lon','year','z'), concat_internal_variability.tasmax_resid.transpose(\"ssp\",\"lat\",\"lon\",\"time\",\"z\").values)"
   ]
  },
  {
   "cell_type": "code",
   "execution_count": 11,
   "metadata": {},
   "outputs": [],
   "source": [
    "concat_internal_variability['tasmax_resid_2'] = concat_internal_variability['tasmax_resid_2'] + concat_internal_variability['tasmax']"
   ]
  },
  {
   "cell_type": "code",
   "execution_count": 16,
   "metadata": {},
   "outputs": [],
   "source": [
    "var1 = concat_internal_variability['tasmax_resid_2'].squeeze().sel(z = concat_internal_variability.GCM =='ACCESS-ESM1-5').var(\"z\")\n",
    "var2 = concat_internal_variability['tasmax_resid_2'].squeeze().sel(z = concat_internal_variability.GCM =='CanESM5').var(\"z\")"
   ]
  },
  {
   "cell_type": "code",
   "execution_count": 20,
   "metadata": {},
   "outputs": [],
   "source": [
    "original_array = xr.open_dataset(r'/nesi/project/niwa00018/ML_downscaling_CCAM/AI_large_ensemble/TXX_internal_variability_smoothing_decomposition.nc')"
   ]
  }
 ],
 "metadata": {
  "kernelspec": {
   "display_name": "My_env-V2",
   "language": "python",
   "name": "nellys_env"
  },
  "language_info": {
   "codemirror_mode": {
    "name": "ipython",
    "version": 3
   },
   "file_extension": ".py",
   "mimetype": "text/x-python",
   "name": "python",
   "nbconvert_exporter": "python",
   "pygments_lexer": "ipython3",
   "version": "3.8.15"
  }
 },
 "nbformat": 4,
 "nbformat_minor": 4
}
